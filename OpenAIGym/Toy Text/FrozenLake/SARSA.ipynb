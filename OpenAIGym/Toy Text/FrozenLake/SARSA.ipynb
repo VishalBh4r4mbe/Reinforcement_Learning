{
 "cells": [
  {
   "cell_type": "code",
   "execution_count": 4,
   "metadata": {},
   "outputs": [],
   "source": [
    "import gym\n",
    "import numpy as np"
   ]
  },
  {
   "cell_type": "code",
   "execution_count": 5,
   "metadata": {},
   "outputs": [],
   "source": [
    "class SARSA:\n",
    "    def __init__(self,env,alpha=0.1 ,  gamma=0.99,epsilon=1,epsilon_decay_dec = 0.001,min_epsilon = 0.01):\n",
    "        self.env = env\n",
    "        self.alpha = alpha\n",
    "        self.gamma = gamma\n",
    "        self.epsilon = epsilon\n",
    "        self.epsilon_decay = epsilon_decay_dec\n",
    "        self.Q = np.zeros((env.observation_space.n,env.action_space.n))\n",
    "        self.min_epsilon = min_epsilon\n",
    "    def run(self,episodes):\n",
    "        state = self.env.reset()\n",
    "        success_rate = []\n",
    "        \n",
    "        for episode in range(episodes):\n",
    "            state = self.env.reset()\n",
    "            done = False\n",
    "            total_reward = 0\n",
    "            if np.random.uniform(0,1)<self.epsilon:\n",
    "                    action = self.env.action_space.sample()\n",
    "            else:\n",
    "                action = np.argmax(self.Q[state,:])\n",
    "            while not done:\n",
    "                next_state,reward, done,info = self.env.step(action)\n",
    "                if np.random.uniform(0,1)<self.epsilon:\n",
    "                    action_ = self.env.action_space.sample()\n",
    "                else:\n",
    "                    action_ = np.argmax(self.Q[next_state,:])\n",
    "                self.Q[state,action] += self.alpha*(reward+ self.gamma* self.Q[next_state,action_] - self.Q[state,action])\n",
    "                action = action_                \n",
    "                state = next_state\n",
    "            if(episode%100==0):\n",
    "                total_reward = self.evaluate(100)\n",
    "                print(\"Episode: {}/{}, Success Rate: {}\".format(episode,episodes,total_reward))\n",
    "            self.epsilon = max(self.min_epsilon, np.exp(-self.epsilon_decay*episode))\n",
    "            \n",
    "            \n",
    "    def evaluate(self,episodes,render=False):\n",
    "        total_reward = 0\n",
    "        \n",
    "        for episode in range(episodes):\n",
    "            state = self.env.reset()\n",
    "            done = False\n",
    "            while not done:\n",
    "                if render:\n",
    "                    self.env.render()\n",
    "                action = np.argmax(self.Q[state,:])\n",
    "                next_state, reward, done, info = self.env.step(action)\n",
    "                \n",
    "                total_reward += reward\n",
    "                state = next_state\n",
    "        return total_reward/episodes\n"
   ]
  },
  {
   "cell_type": "code",
   "execution_count": 6,
   "metadata": {},
   "outputs": [],
   "source": [
    "env_name = \"FrozenLake-v0\"\n",
    "env = gym.make(env_name)\n",
    "x = SARSA(env)"
   ]
  },
  {
   "cell_type": "code",
   "execution_count": 7,
   "metadata": {},
   "outputs": [
    {
     "data": {
      "text/plain": [
       "<__main__.SARSA at 0x258ec36c2c8>"
      ]
     },
     "execution_count": 7,
     "metadata": {},
     "output_type": "execute_result"
    }
   ],
   "source": [
    "x"
   ]
  },
  {
   "cell_type": "code",
   "execution_count": 8,
   "metadata": {},
   "outputs": [
    {
     "name": "stdout",
     "output_type": "stream",
     "text": [
      "Episode: 0/10000, Success Rate: 0.0\n",
      "Episode: 100/10000, Success Rate: 0.0\n",
      "Episode: 200/10000, Success Rate: 0.0\n",
      "Episode: 300/10000, Success Rate: 0.11\n",
      "Episode: 400/10000, Success Rate: 0.16\n",
      "Episode: 500/10000, Success Rate: 0.05\n",
      "Episode: 600/10000, Success Rate: 0.3\n",
      "Episode: 700/10000, Success Rate: 0.13\n",
      "Episode: 800/10000, Success Rate: 0.37\n",
      "Episode: 900/10000, Success Rate: 0.4\n",
      "Episode: 1000/10000, Success Rate: 0.43\n",
      "Episode: 1100/10000, Success Rate: 0.12\n",
      "Episode: 1200/10000, Success Rate: 0.61\n",
      "Episode: 1300/10000, Success Rate: 0.66\n",
      "Episode: 1400/10000, Success Rate: 0.28\n",
      "Episode: 1500/10000, Success Rate: 0.69\n",
      "Episode: 1600/10000, Success Rate: 0.76\n",
      "Episode: 1700/10000, Success Rate: 0.52\n",
      "Episode: 1800/10000, Success Rate: 0.67\n",
      "Episode: 1900/10000, Success Rate: 0.45\n",
      "Episode: 2000/10000, Success Rate: 0.72\n",
      "Episode: 2100/10000, Success Rate: 0.6\n",
      "Episode: 2200/10000, Success Rate: 0.66\n",
      "Episode: 2300/10000, Success Rate: 0.73\n",
      "Episode: 2400/10000, Success Rate: 0.7\n",
      "Episode: 2500/10000, Success Rate: 0.66\n",
      "Episode: 2600/10000, Success Rate: 0.74\n",
      "Episode: 2700/10000, Success Rate: 0.71\n",
      "Episode: 2800/10000, Success Rate: 0.69\n",
      "Episode: 2900/10000, Success Rate: 0.7\n",
      "Episode: 3000/10000, Success Rate: 0.7\n",
      "Episode: 3100/10000, Success Rate: 0.79\n",
      "Episode: 3200/10000, Success Rate: 0.61\n",
      "Episode: 3300/10000, Success Rate: 0.5\n",
      "Episode: 3400/10000, Success Rate: 0.73\n",
      "Episode: 3500/10000, Success Rate: 0.68\n",
      "Episode: 3600/10000, Success Rate: 0.74\n",
      "Episode: 3700/10000, Success Rate: 0.67\n",
      "Episode: 3800/10000, Success Rate: 0.74\n",
      "Episode: 3900/10000, Success Rate: 0.74\n",
      "Episode: 4000/10000, Success Rate: 0.72\n",
      "Episode: 4100/10000, Success Rate: 0.71\n",
      "Episode: 4200/10000, Success Rate: 0.75\n",
      "Episode: 4300/10000, Success Rate: 0.79\n",
      "Episode: 4400/10000, Success Rate: 0.7\n",
      "Episode: 4500/10000, Success Rate: 0.66\n",
      "Episode: 4600/10000, Success Rate: 0.73\n",
      "Episode: 4700/10000, Success Rate: 0.74\n",
      "Episode: 4800/10000, Success Rate: 0.74\n",
      "Episode: 4900/10000, Success Rate: 0.76\n",
      "Episode: 5000/10000, Success Rate: 0.73\n",
      "Episode: 5100/10000, Success Rate: 0.75\n",
      "Episode: 5200/10000, Success Rate: 0.79\n",
      "Episode: 5300/10000, Success Rate: 0.79\n",
      "Episode: 5400/10000, Success Rate: 0.66\n",
      "Episode: 5500/10000, Success Rate: 0.77\n",
      "Episode: 5600/10000, Success Rate: 0.7\n",
      "Episode: 5700/10000, Success Rate: 0.73\n",
      "Episode: 5800/10000, Success Rate: 0.74\n",
      "Episode: 5900/10000, Success Rate: 0.58\n",
      "Episode: 6000/10000, Success Rate: 0.72\n",
      "Episode: 6100/10000, Success Rate: 0.71\n",
      "Episode: 6200/10000, Success Rate: 0.73\n",
      "Episode: 6300/10000, Success Rate: 0.7\n",
      "Episode: 6400/10000, Success Rate: 0.66\n",
      "Episode: 6500/10000, Success Rate: 0.73\n",
      "Episode: 6600/10000, Success Rate: 0.67\n",
      "Episode: 6700/10000, Success Rate: 0.71\n",
      "Episode: 6800/10000, Success Rate: 0.71\n",
      "Episode: 6900/10000, Success Rate: 0.82\n",
      "Episode: 7000/10000, Success Rate: 0.76\n",
      "Episode: 7100/10000, Success Rate: 0.75\n",
      "Episode: 7200/10000, Success Rate: 0.76\n",
      "Episode: 7300/10000, Success Rate: 0.72\n",
      "Episode: 7400/10000, Success Rate: 0.81\n",
      "Episode: 7500/10000, Success Rate: 0.68\n",
      "Episode: 7600/10000, Success Rate: 0.72\n",
      "Episode: 7700/10000, Success Rate: 0.72\n",
      "Episode: 7800/10000, Success Rate: 0.68\n",
      "Episode: 7900/10000, Success Rate: 0.8\n",
      "Episode: 8000/10000, Success Rate: 0.74\n",
      "Episode: 8100/10000, Success Rate: 0.74\n",
      "Episode: 8200/10000, Success Rate: 0.56\n",
      "Episode: 8300/10000, Success Rate: 0.74\n",
      "Episode: 8400/10000, Success Rate: 0.77\n",
      "Episode: 8500/10000, Success Rate: 0.65\n",
      "Episode: 8600/10000, Success Rate: 0.73\n",
      "Episode: 8700/10000, Success Rate: 0.75\n",
      "Episode: 8800/10000, Success Rate: 0.75\n",
      "Episode: 8900/10000, Success Rate: 0.69\n",
      "Episode: 9000/10000, Success Rate: 0.67\n",
      "Episode: 9100/10000, Success Rate: 0.71\n",
      "Episode: 9200/10000, Success Rate: 0.77\n",
      "Episode: 9300/10000, Success Rate: 0.74\n",
      "Episode: 9400/10000, Success Rate: 0.6\n",
      "Episode: 9500/10000, Success Rate: 0.76\n",
      "Episode: 9600/10000, Success Rate: 0.76\n",
      "Episode: 9700/10000, Success Rate: 0.78\n",
      "Episode: 9800/10000, Success Rate: 0.77\n",
      "Episode: 9900/10000, Success Rate: 0.73\n"
     ]
    }
   ],
   "source": [
    "x.run(10000)"
   ]
  },
  {
   "cell_type": "code",
   "execution_count": null,
   "metadata": {},
   "outputs": [],
   "source": []
  }
 ],
 "metadata": {
  "interpreter": {
   "hash": "b3ba2566441a7c06988d0923437866b63cedc61552a5af99d1f4fb67d367b25f"
  },
  "kernelspec": {
   "display_name": "Python 3.7.10 ('base')",
   "language": "python",
   "name": "python3"
  },
  "language_info": {
   "codemirror_mode": {
    "name": "ipython",
    "version": 3
   },
   "file_extension": ".py",
   "mimetype": "text/x-python",
   "name": "python",
   "nbconvert_exporter": "python",
   "pygments_lexer": "ipython3",
   "version": "3.7.10"
  },
  "orig_nbformat": 4
 },
 "nbformat": 4,
 "nbformat_minor": 2
}
