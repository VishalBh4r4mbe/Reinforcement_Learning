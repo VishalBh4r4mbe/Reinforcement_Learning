{
 "cells": [
  {
   "cell_type": "code",
   "execution_count": 1,
   "metadata": {},
   "outputs": [],
   "source": [
    "import gym\n",
    "import numpy as np"
   ]
  },
  {
   "cell_type": "code",
   "execution_count": 2,
   "metadata": {},
   "outputs": [],
   "source": [
    "env = gym.make(\"FrozenLake-v0\")"
   ]
  },
  {
   "cell_type": "code",
   "execution_count": 3,
   "metadata": {},
   "outputs": [],
   "source": [
    "SZ_ACTION_SPACE = env.action_space.n\n",
    "SZ_OBS_SPACE = env.observation_space.n\n"
   ]
  },
  {
   "cell_type": "code",
   "execution_count": 6,
   "metadata": {},
   "outputs": [],
   "source": [
    "class ValueIterations:\n",
    "    def __init__(self,env,gamma=1.0):\n",
    "        self.env = env\n",
    "        self.gamma = gamma\n",
    "        self.SZ_ACTION_SPACE = env.action_space.n\n",
    "        self.SZ_OBS_SPACE = env.observation_space.n\n",
    "        self.v = np.zeros(self.SZ_OBS_SPACE)\n",
    "        self.pi = np.zeros(self.SZ_OBS_SPACE)\n",
    "    def run(self, iterations=100000,epsilon = 1e-20):\n",
    "        for i in range(iterations):\n",
    "            prev_v = np.copy(self.v)\n",
    "            for s in range(self.SZ_OBS_SPACE):\n",
    "                q_sa = [sum([p*(r+prev_v[s_]) for p,s_,r,_ in self.env.P[s][a]]) for a in range(self.SZ_ACTION_SPACE)]\n",
    "                self.v[s] = max(q_sa)\n",
    "            if (np.sum(np.fabs(prev_v - self.v)) <= epsilon):\n",
    "                print(f\"Value Iteration Converged at iteration {i+1}\")\n",
    "                break\n",
    "        for s in range(self.SZ_OBS_SPACE):\n",
    "            q_sa = np.zeros(self.SZ_ACTION_SPACE)\n",
    "            for a in range(self.SZ_ACTION_SPACE):\n",
    "                for p,s_,r_,_ in self.env.P[s][a]:\n",
    "                    q_sa[a] +=(p*(r_+self.gamma*self.v[s_]))\n",
    "            self.pi[s] = np.argmax(q_sa)\n",
    "    \n",
    "    def evaluate(self,episodes,render=False,verbose=False):\n",
    "        total_reward = 0\n",
    "        for i in range(episodes):\n",
    "            obs = env.reset()\n",
    "            done = False\n",
    "            step = 0\n",
    "            ep_reward=0\n",
    "            while True:\n",
    "                if render:\n",
    "                    env.render()\n",
    "                obs,reward,done,_ = env.step(int(self.pi[obs]))\n",
    "                ep_reward += reward\n",
    "                step += 1\n",
    "                if done:\n",
    "                    if verbose:\n",
    "                        print(f\"Took {step} steps\")\n",
    "                    total_reward += ep_reward\n",
    "                    break\n",
    "        return total_reward/episodes\n",
    "\n",
    "\n"
   ]
  },
  {
   "cell_type": "code",
   "execution_count": 10,
   "metadata": {},
   "outputs": [
    {
     "name": "stdout",
     "output_type": "stream",
     "text": [
      "Value Iteration Converged at iteration 1373\n",
      "0.7336\n"
     ]
    }
   ],
   "source": [
    "env_name = 'FrozenLake-v0'\n",
    "gamma=1.0\n",
    "env = gym.make(env_name)\n",
    "vi = ValueIterations(env,gamma)\n",
    "vi.run(iterations=100000)\n",
    "print(vi.evaluate(episodes=10000,render=False,verbose=False))"
   ]
  },
  {
   "cell_type": "code",
   "execution_count": 13,
   "metadata": {},
   "outputs": [
    {
     "name": "stdout",
     "output_type": "stream",
     "text": [
      "Value Iteration Converged at iteration 2357\n",
      "0.8764\n"
     ]
    }
   ],
   "source": [
    "env_name = 'FrozenLake8x8-v0'\n",
    "gamma=1.0\n",
    "env = gym.make(env_name)\n",
    "vi = ValueIterations(env,gamma)\n",
    "vi.run(iterations=100000)\n",
    "print(vi.evaluate(episodes=10000,render=False,verbose=False))"
   ]
  },
  {
   "cell_type": "code",
   "execution_count": null,
   "metadata": {},
   "outputs": [],
   "source": []
  }
 ],
 "metadata": {
  "interpreter": {
   "hash": "b3ba2566441a7c06988d0923437866b63cedc61552a5af99d1f4fb67d367b25f"
  },
  "kernelspec": {
   "display_name": "Python 3.7.10 64-bit ('base': conda)",
   "language": "python",
   "name": "python3"
  },
  "language_info": {
   "codemirror_mode": {
    "name": "ipython",
    "version": 3
   },
   "file_extension": ".py",
   "mimetype": "text/x-python",
   "name": "python",
   "nbconvert_exporter": "python",
   "pygments_lexer": "ipython3",
   "version": "3.7.10"
  },
  "orig_nbformat": 4
 },
 "nbformat": 4,
 "nbformat_minor": 2
}
