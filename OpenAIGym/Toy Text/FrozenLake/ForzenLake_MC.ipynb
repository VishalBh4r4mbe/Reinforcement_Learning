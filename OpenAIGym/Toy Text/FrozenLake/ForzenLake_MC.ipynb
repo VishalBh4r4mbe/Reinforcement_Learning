{
 "cells": [
  {
   "cell_type": "code",
   "execution_count": 3,
   "metadata": {},
   "outputs": [],
   "source": [
    "import gym\n",
    "import numpy as np\n"
   ]
  },
  {
   "cell_type": "code",
   "execution_count": 5,
   "metadata": {},
   "outputs": [],
   "source": [
    "env  = gym.make('FrozenLake-v0')\n"
   ]
  },
  {
   "cell_type": "code",
   "execution_count": 6,
   "metadata": {},
   "outputs": [
    {
     "data": {
      "text/plain": [
       "(16, 4)"
      ]
     },
     "execution_count": 6,
     "metadata": {},
     "output_type": "execute_result"
    }
   ],
   "source": [
    "(env.observation_space.n, env.action_space.n)"
   ]
  },
  {
   "cell_type": "code",
   "execution_count": 9,
   "metadata": {},
   "outputs": [],
   "source": [
    "Q = np.random.rand(env.observation_space.n, env.action_space.n)\n",
    "countSA = np.zeros([env.observation_space.n, env.action_space.n])"
   ]
  },
  {
   "cell_type": "code",
   "execution_count": 28,
   "metadata": {},
   "outputs": [],
   "source": [
    "episodes = 1000000\n",
    "epsilon = 0.5\n",
    "rewardList = []"
   ]
  },
  {
   "cell_type": "code",
   "execution_count": 29,
   "metadata": {},
   "outputs": [
    {
     "name": "stdout",
     "output_type": "stream",
     "text": [
      "Success Rate =  0.0  Epsilon =  0.5\n",
      "Success Rate =  0.0781  Epsilon =  0.475608765121167\n",
      "Success Rate =  0.0828  Epsilon =  0.45240739492016346\n",
      "Success Rate =  0.0932  Epsilon =  0.4303378448593264\n",
      "Success Rate =  0.0972  Epsilon =  0.40934490195689754\n",
      "Success Rate =  0.1056  Epsilon =  0.38937604665673076\n",
      "Success Rate =  0.1141  Epsilon =  0.3703813214363394\n",
      "Success Rate =  0.1228  Epsilon =  0.3523132058245669\n",
      "Success Rate =  0.1229  Epsilon =  0.3351264975162037\n",
      "Success Rate =  0.1412  Epsilon =  0.318778199286127\n",
      "Success Rate =  0.1449  Epsilon =  0.3032274114200485\n",
      "Success Rate =  0.1487  Epsilon =  0.2884352293927547\n",
      "Success Rate =  0.171  Epsilon =  0.2743646465378575\n",
      "Success Rate =  0.184  Epsilon =  0.2609804614655517\n",
      "Success Rate =  0.1859  Epsilon =  0.24824918999676682\n",
      "Success Rate =  0.1983  Epsilon =  0.23613898139338454\n",
      "Success Rate =  0.2089  Epsilon =  0.22461953867495577\n",
      "Success Rate =  0.2197  Epsilon =  0.21366204282256376\n",
      "Success Rate =  0.2328  Epsilon =  0.203239080680211\n",
      "Success Rate =  0.2399  Epsilon =  0.19332457637335276\n",
      "Success Rate =  0.2457  Epsilon =  0.18389372607300605\n",
      "Success Rate =  0.2676  Epsilon =  0.17492293594222508\n",
      "Success Rate =  0.2785  Epsilon =  0.16638976310970144\n",
      "Success Rate =  0.2807  Epsilon =  0.15827285952281717\n",
      "Success Rate =  0.3022  Epsilon =  0.15055191853968616\n",
      "Success Rate =  0.3026  Epsilon =  0.14320762412656543\n",
      "Success Rate =  0.3153  Epsilon =  0.13622160253354407\n",
      "Success Rate =  0.3419  Epsilon =  0.12957637632761057\n",
      "Success Rate =  0.3382  Epsilon =  0.12325532066810098\n",
      "Success Rate =  0.3506  Epsilon =  0.11724262171513793\n",
      "Success Rate =  0.3773  Epsilon =  0.11152323706700974\n",
      "Success Rate =  0.3766  Epsilon =  0.10608285812751131\n",
      "Success Rate =  0.3815  Epsilon =  0.10090787430909925\n",
      "Success Rate =  0.4026  Epsilon =  0.0959853389823053\n",
      "Success Rate =  0.4029  Epsilon =  0.0913029370862217\n",
      "Success Rate =  0.4189  Epsilon =  0.08684895431902706\n",
      "Success Rate =  0.4371  Epsilon =  0.08261224783147415\n",
      "Success Rate =  0.4364  Epsilon =  0.07858221835002245\n",
      "Success Rate =  0.4554  Epsilon =  0.0747487836598721\n",
      "Success Rate =  0.4634  Epsilon =  0.07110235338156205\n",
      "Success Rate =  0.4743  Epsilon =  0.06763380497802711\n",
      "Success Rate =  0.4688  Epsilon =  0.06433446093209073\n",
      "Success Rate =  0.4933  Epsilon =  0.06119606703729534\n",
      "Success Rate =  0.4988  Epsilon =  0.0582107717477604\n",
      "Success Rate =  0.5042  Epsilon =  0.055371106535404856\n",
      "Success Rate =  0.5108  Epsilon =  0.05266996720539293\n",
      "Success Rate =  0.508  Epsilon =  0.0501005961230586\n",
      "Success Rate =  0.5129  Epsilon =  0.047656565307844484\n",
      "Success Rate =  0.5306  Epsilon =  0.045331760351960355\n",
      "Success Rate =  0.542  Epsilon =  0.04312036512352912\n",
      "Success Rate =  0.5442  Epsilon =  0.04101684721595105\n",
      "Success Rate =  0.5556  Epsilon =  0.03901594410708409\n",
      "Success Rate =  0.5519  Epsilon =  0.03711264999361347\n",
      "Success Rate =  0.5701  Epsilon =  0.0353022032676732\n",
      "Success Rate =  0.5734  Epsilon =  0.033580074604388936\n",
      "Success Rate =  0.5812  Epsilon =  0.031941955630540156\n",
      "Success Rate =  0.5794  Epsilon =  0.03038374814599263\n",
      "Success Rate =  0.5849  Epsilon =  0.028901553870936215\n",
      "Success Rate =  0.5956  Epsilon =  0.027491664693277726\n",
      "Success Rate =  0.5977  Epsilon =  0.02615055339179003\n",
      "Success Rate =  0.6061  Epsilon =  0.024874864811808794\n",
      "Success Rate =  0.611  Epsilon =  0.023661407471400695\n",
      "Success Rate =  0.6128  Epsilon =  0.022507145577003285\n",
      "Success Rate =  0.6173  Epsilon =  0.021409191428561736\n",
      "Success Rate =  0.622  Epsilon =  0.020364798195161835\n",
      "Success Rate =  0.626  Epsilon =  0.019371353043085383\n",
      "Success Rate =  0.6287  Epsilon =  0.018426370599095996\n",
      "Success Rate =  0.6351  Epsilon =  0.01752748673260206\n",
      "Success Rate =  0.6408  Epsilon =  0.016672452641141006\n",
      "Success Rate =  0.6289  Epsilon =  0.01585912922438843\n",
      "Success Rate =  0.6475  Epsilon =  0.015085481732616784\n",
      "Success Rate =  0.6596  Epsilon =  0.014349574676215586\n",
      "Success Rate =  0.646  Epsilon =  0.013649566983537741\n",
      "Success Rate =  0.6491  Epsilon =  0.012983707394958062\n",
      "Success Rate =  0.6532  Epsilon =  0.012350330081621135\n",
      "Success Rate =  0.6538  Epsilon =  0.011747850477917255\n",
      "Success Rate =  0.6592  Epsilon =  0.011174761317260681\n",
      "Success Rate =  0.6722  Epsilon =  0.010629628861252271\n",
      "Success Rate =  0.6618  Epsilon =  0.010111089312793016\n",
      "Success Rate =  0.6694  Epsilon =  0.009617845404174635\n",
      "Success Rate =  0.6694  Epsilon =  0.009148663151611577\n",
      "Success Rate =  0.6634  Epsilon =  0.008702368768095013\n",
      "Success Rate =  0.6744  Epsilon =  0.008277845726845359\n",
      "Success Rate =  0.6725  Epsilon =  0.007874031968016903\n",
      "Success Rate =  0.6761  Epsilon =  0.007489917241666222\n",
      "Success Rate =  0.6782  Epsilon =  0.007124540580337216\n",
      "Success Rate =  0.6732  Epsilon =  0.006776987894939655\n",
      "Success Rate =  0.6854  Epsilon =  0.0064463896879066954\n",
      "Success Rate =  0.693  Epsilon =  0.006131918877910257\n",
      "Success Rate =  0.6783  Epsilon =  0.005832788730692139\n",
      "Success Rate =  0.6897  Epsilon =  0.005548250890834293\n",
      "Success Rate =  0.6824  Epsilon =  0.0052775935095442286\n",
      "Success Rate =  0.6899  Epsilon =  0.005020139463771637\n",
      "Success Rate =  0.6917  Epsilon =  0.004775244662200933\n",
      "Success Rate =  0.6909  Epsilon =  0.004542296433881662\n",
      "Success Rate =  0.6905  Epsilon =  0.004320711995465477\n",
      "Success Rate =  0.6928  Epsilon =  0.004109936993215097\n",
      "Success Rate =  0.6931  Epsilon =  0.0039094441161376696\n",
      "Success Rate =  0.6908  Epsilon =  0.0037187317767728976\n",
      "Success Rate =  0.6984  Epsilon =  0.0035373228563356026\n"
     ]
    }
   ],
   "source": [
    "for i in range(episodes):\n",
    "    state = env.reset()\n",
    "    done = False\n",
    "    resultList = []\n",
    "    epReward = 0\n",
    "    if(i%100 == 0 and i!=0):\n",
    "        epsilon = epsilon*0.9995\n",
    "    while not done:\n",
    "        if np.random.rand() < epsilon:\n",
    "            action = env.action_space.sample()\n",
    "        else:\n",
    "            action = np.argmax(Q[state, :])\n",
    "        newState, reward, done, info = env.step(action)\n",
    "        # if(done==True and newState!=15):\n",
    "        #     reward = -0.1\n",
    "\n",
    "        resultList.append((state,action))\n",
    "        state = newState   \n",
    "        epReward+=reward\n",
    "    rewardList.append(epReward)\n",
    "    for state, action in resultList:\n",
    "        countSA[state, action] += 1\n",
    "        Q[state, action] = Q[state, action] + (1.0/countSA[state, action])*(reward - Q[state, action])\n",
    "    if i % 10000 == 0:\n",
    "        print(\"Success Rate = \",np.mean(rewardList),\" Epsilon = \",epsilon)\n",
    "        rewardList = []"
   ]
  },
  {
   "cell_type": "code",
   "execution_count": null,
   "metadata": {},
   "outputs": [],
   "source": []
  }
 ],
 "metadata": {
  "interpreter": {
   "hash": "b3ba2566441a7c06988d0923437866b63cedc61552a5af99d1f4fb67d367b25f"
  },
  "kernelspec": {
   "display_name": "Python 3.7.10 64-bit ('base': conda)",
   "language": "python",
   "name": "python3"
  },
  "language_info": {
   "codemirror_mode": {
    "name": "ipython",
    "version": 3
   },
   "file_extension": ".py",
   "mimetype": "text/x-python",
   "name": "python",
   "nbconvert_exporter": "python",
   "pygments_lexer": "ipython3",
   "version": "3.7.10"
  },
  "orig_nbformat": 4
 },
 "nbformat": 4,
 "nbformat_minor": 2
}
