{
 "cells": [
  {
   "cell_type": "code",
   "execution_count": 1,
   "metadata": {},
   "outputs": [
    {
     "name": "stdout",
     "output_type": "stream",
     "text": [
      "\n",
      "\u001b[41mS\u001b[0mFFF\n",
      "FHFH\n",
      "FFFH\n",
      "HFFG\n"
     ]
    }
   ],
   "source": [
    "import gym \n",
    "import numpy as np\n",
    "#Just load and check once\n",
    "env = gym.make(\"FrozenLake-v0\")\n",
    "env.reset()\n",
    "env.render()"
   ]
  },
  {
   "cell_type": "code",
   "execution_count": 2,
   "metadata": {},
   "outputs": [
    {
     "name": "stdout",
     "output_type": "stream",
     "text": [
      "Action space:  Discrete(4)\n",
      "Observation space:  Discrete(16)\n"
     ]
    }
   ],
   "source": [
    "# S is the initial stage\n",
    "# G is the Goal \n",
    "# F is frozen part of the lake we can walk over\n",
    "# H is the hole\n",
    "\n",
    "\n",
    "# Lets look at the action space and the observation space\n",
    "print(\"Action space: \", env.action_space)\n",
    "print(\"Observation space: \", env.observation_space)"
   ]
  },
  {
   "cell_type": "code",
   "execution_count": 3,
   "metadata": {
    "scrolled": true
   },
   "outputs": [
    {
     "name": "stdout",
     "output_type": "stream",
     "text": [
      "Size of Action Space is  4\n",
      "Size of Observation space is  16\n"
     ]
    }
   ],
   "source": [
    "SZ_ACTION_SPACE = env.action_space.n\n",
    "SZ_OBS_SPACE = env.observation_space.n\n",
    "print(\"Size of Action Space is \",SZ_ACTION_SPACE)\n",
    "print(\"Size of Observation space is \",SZ_OBS_SPACE)"
   ]
  },
  {
   "cell_type": "code",
   "execution_count": 4,
   "metadata": {},
   "outputs": [],
   "source": [
    "#From the documentation \n",
    "actions = {\n",
    "    'Left': 0,\n",
    "    'Down': 1,\n",
    "    'Right': 2, \n",
    "    'Up': 3\n",
    "}"
   ]
  },
  {
   "cell_type": "code",
   "execution_count": 24,
   "metadata": {},
   "outputs": [],
   "source": [
    "def run_episode(env, policy, gamma = 1.0, render = False):\n",
    "    \n",
    "    obs = env.reset()\n",
    "    total_reward = 0\n",
    "    step_idx = 0\n",
    "    while True:\n",
    "        if render:\n",
    "            env.render()\n",
    "        obs, reward, done , _ = env.step(int(policy[obs]))\n",
    "        total_reward += (gamma ** step_idx * reward)\n",
    "        step_idx += 1\n",
    "        \n",
    "        if done:\n",
    "            print(\"Took \",step_idx,\" Steps.\")\n",
    "            break\n",
    "    return total_reward"
   ]
  },
  {
   "cell_type": "code",
   "execution_count": 17,
   "metadata": {},
   "outputs": [],
   "source": [
    "def evaluate_policy(env, policy, gamma = 1.0,  n = 100):\n",
    "    scores = [run_episode(env, policy, gamma = gamma, render = False) for _ in range(n)]\n",
    "    return np.mean(scores)\n"
   ]
  },
  {
   "cell_type": "code",
   "execution_count": 18,
   "metadata": {},
   "outputs": [],
   "source": [
    "def extract_policy(v, gamma = 1.0):\n",
    "    policy = np.zeros(env.nS)\n",
    "    for s in range(env.nS):\n",
    "        q_sa = np.zeros(env.action_space.n)\n",
    "        for a in range(env.action_space.n):\n",
    "            for next_sr in env.P[s][a]:\n",
    "                p, s_, r, _ = next_sr\n",
    "                q_sa[a] += (p * (r + gamma * v[s_]))\n",
    "        policy[s] = np.argmax(q_sa)\n",
    "    return policy"
   ]
  },
  {
   "cell_type": "code",
   "execution_count": 19,
   "metadata": {},
   "outputs": [],
   "source": [
    "def value_iteration(env, gamma = 1.0):\n",
    "    v = np.zeros(env.nS)\n",
    "    max_iterations = 100000\n",
    "    eps = 1e-20\n",
    "    for i in range(max_iterations):\n",
    "        prev_v = np.copy(v)\n",
    "        for s in range(env.nS):\n",
    "            q_sa = [sum([p*(r + prev_v[s_]) for p, s_, r, _ in env.P[s][a]]) for a in range(env.nA)] \n",
    "            v[s] = max(q_sa)\n",
    "        if (np.sum(np.fabs(prev_v - v)) <= eps):\n",
    "            print ('Value-iteration converged at iteration# %d.' %(i+1))\n",
    "            break\n",
    "    return v"
   ]
  },
  {
   "cell_type": "code",
   "execution_count": 20,
   "metadata": {},
   "outputs": [
    {
     "name": "stdout",
     "output_type": "stream",
     "text": [
      "Value-iteration converged at iteration# 2357.\n",
      "Policy average score =  0.853\n"
     ]
    }
   ],
   "source": [
    "env_name  = 'FrozenLake8x8-v0'\n",
    "gamma = 1.0\n",
    "env = gym.make(env_name)\n",
    "optimal_v = value_iteration(env, gamma);\n",
    "policy = extract_policy(optimal_v, gamma)\n",
    "policy_score = evaluate_policy(env, policy, gamma, n=1000)\n",
    "print('Policy average score = ', policy_score)"
   ]
  },
  {
   "cell_type": "code",
   "execution_count": 42,
   "metadata": {},
   "outputs": [
    {
     "name": "stdout",
     "output_type": "stream",
     "text": [
      "Took  200  Steps.\n",
      "Took  153  Steps.\n",
      "Took  118  Steps.\n",
      "Took  196  Steps.\n",
      "Took  18  Steps.\n",
      "Took  85  Steps.\n",
      "Took  145  Steps.\n",
      "Took  200  Steps.\n",
      "Took  107  Steps.\n",
      "Took  79  Steps.\n",
      "Took  94  Steps.\n",
      "Took  103  Steps.\n",
      "Took  106  Steps.\n",
      "Took  74  Steps.\n",
      "Took  67  Steps.\n",
      "Took  67  Steps.\n",
      "Took  136  Steps.\n",
      "Took  128  Steps.\n",
      "Took  54  Steps.\n",
      "Took  89  Steps.\n",
      "Took  55  Steps.\n",
      "Took  104  Steps.\n",
      "Took  78  Steps.\n",
      "Took  200  Steps.\n",
      "Took  200  Steps.\n",
      "Took  125  Steps.\n",
      "Took  65  Steps.\n",
      "Took  93  Steps.\n",
      "Took  54  Steps.\n",
      "Took  35  Steps.\n",
      "Took  70  Steps.\n",
      "Took  160  Steps.\n",
      "Took  75  Steps.\n",
      "Took  68  Steps.\n",
      "Took  84  Steps.\n",
      "Took  107  Steps.\n",
      "Took  181  Steps.\n",
      "Took  135  Steps.\n",
      "Took  93  Steps.\n",
      "Took  60  Steps.\n",
      "Took  90  Steps.\n",
      "Took  139  Steps.\n",
      "Took  166  Steps.\n",
      "Took  60  Steps.\n",
      "Took  27  Steps.\n",
      "Took  67  Steps.\n",
      "Took  131  Steps.\n",
      "Took  200  Steps.\n",
      "Took  200  Steps.\n",
      "Took  116  Steps.\n",
      "Took  79  Steps.\n",
      "Took  125  Steps.\n",
      "Took  145  Steps.\n",
      "Took  200  Steps.\n",
      "Took  78  Steps.\n",
      "Took  87  Steps.\n",
      "Took  197  Steps.\n",
      "Took  130  Steps.\n",
      "Took  97  Steps.\n",
      "Took  68  Steps.\n",
      "Took  87  Steps.\n",
      "Took  77  Steps.\n",
      "Took  63  Steps.\n",
      "Took  167  Steps.\n",
      "Took  118  Steps.\n",
      "Took  133  Steps.\n",
      "Took  97  Steps.\n",
      "Took  57  Steps.\n",
      "Took  45  Steps.\n",
      "Took  106  Steps.\n",
      "Took  138  Steps.\n",
      "Took  114  Steps.\n",
      "Took  96  Steps.\n",
      "Took  200  Steps.\n",
      "Took  51  Steps.\n",
      "Took  143  Steps.\n",
      "Took  41  Steps.\n",
      "Took  200  Steps.\n",
      "Took  70  Steps.\n",
      "Took  115  Steps.\n",
      "Took  71  Steps.\n",
      "Took  52  Steps.\n",
      "Took  200  Steps.\n",
      "Took  173  Steps.\n",
      "Took  190  Steps.\n",
      "Took  50  Steps.\n",
      "Took  139  Steps.\n",
      "Took  65  Steps.\n",
      "Took  87  Steps.\n",
      "Took  55  Steps.\n",
      "Took  114  Steps.\n",
      "Took  90  Steps.\n",
      "Took  96  Steps.\n",
      "Took  108  Steps.\n",
      "Took  30  Steps.\n",
      "Took  56  Steps.\n",
      "Took  160  Steps.\n",
      "Took  36  Steps.\n",
      "Took  46  Steps.\n",
      "Took  48  Steps.\n",
      "Accuracy :  0.9\n"
     ]
    }
   ],
   "source": [
    "print(\"Accuracy : \",evaluate_policy(env,policy,gamma,100))"
   ]
  },
  {
   "cell_type": "markdown",
   "metadata": {},
   "source": [
    "## The maximum number of steps above are 200 as the Env automatically terminates after 200 moves so that it doesn't infinitely render."
   ]
  },
  {
   "cell_type": "code",
   "execution_count": null,
   "metadata": {},
   "outputs": [],
   "source": []
  }
 ],
 "metadata": {
  "kernelspec": {
   "display_name": "Python 3",
   "language": "python",
   "name": "python3"
  },
  "language_info": {
   "codemirror_mode": {
    "name": "ipython",
    "version": 3
   },
   "file_extension": ".py",
   "mimetype": "text/x-python",
   "name": "python",
   "nbconvert_exporter": "python",
   "pygments_lexer": "ipython3",
   "version": "3.7.6"
  }
 },
 "nbformat": 4,
 "nbformat_minor": 4
}
